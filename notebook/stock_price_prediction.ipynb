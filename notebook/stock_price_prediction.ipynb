{
  "nbformat": 4,
  "nbformat_minor": 0,
  "metadata": {
    "colab": {
      "provenance": []
    },
    "kernelspec": {
      "name": "python3",
      "display_name": "Python 3"
    },
    "language_info": {
      "name": "python"
    }
  },
  "cells": [
    {
      "cell_type": "markdown",
      "source": [
        "\n",
        "#Crowdsourcing Short Squeeze Dashboard\n",
        "#Author: Musfira Mubeen\n",
        "#Project Overview\n",
        "\n",
        "This project predicts whether a stock will go up (1) or down (0) the next day.\n",
        "It includes steps like data exploration, feature creation, model training, tuning, and saving the final model.\n",
        "\n"
      ],
      "metadata": {
        "id": "p3Q64YP7nMbI"
      }
    },
    {
      "cell_type": "markdown",
      "source": [
        "#Import Libraries"
      ],
      "metadata": {
        "id": "Ab8GdpJUouIJ"
      }
    },
    {
      "cell_type": "code",
      "execution_count": 23,
      "metadata": {
        "id": "40NLRFHrZCqd"
      },
      "outputs": [],
      "source": [
        "import pandas as pd\n",
        "import matplotlib.pyplot as plt\n",
        "import seaborn as sns\n",
        "import joblib\n",
        "from sklearn.preprocessing import  StandardScaler,MinMaxScaler\n",
        "from sklearn.model_selection import train_test_split,GridSearchCV,cross_val_score\n",
        "from sklearn.compose import ColumnTransformer\n",
        "from sklearn.pipeline import Pipeline\n",
        "from sklearn.linear_model import  LogisticRegression\n",
        "from sklearn.tree import DecisionTreeClassifier\n",
        "from sklearn.ensemble import RandomForestClassifier,GradientBoostingClassifier\n",
        "from sklearn.svm import SVC\n",
        "from sklearn.neighbors import KNeighborsClassifier\n",
        "from sklearn.naive_bayes import GaussianNB\n",
        "from sklearn.metrics import accuracy_score,classification_report,confusion_matrix\n"
      ]
    },
    {
      "cell_type": "markdown",
      "source": [
        "#Load Data"
      ],
      "metadata": {
        "id": "ecrmY_klo-cb"
      }
    },
    {
      "cell_type": "code",
      "source": [
        "from google.colab import files\n",
        "files.upload()\n",
        "df=pd.read_csv('/content/stock_features.csv')\n",
        "print(df.head())\n"
      ],
      "metadata": {
        "colab": {
          "base_uri": "https://localhost:8080/",
          "height": 441
        },
        "id": "lIMP2kt8ZQSo",
        "outputId": "b816c598-d917-48f9-ef68-d4a76c6d66a3"
      },
      "execution_count": 2,
      "outputs": [
        {
          "output_type": "display_data",
          "data": {
            "text/plain": [
              "<IPython.core.display.HTML object>"
            ],
            "text/html": [
              "\n",
              "     <input type=\"file\" id=\"files-6410ccb8-9ee8-4f6e-86f6-065f75c26aaf\" name=\"files[]\" multiple disabled\n",
              "        style=\"border:none\" />\n",
              "     <output id=\"result-6410ccb8-9ee8-4f6e-86f6-065f75c26aaf\">\n",
              "      Upload widget is only available when the cell has been executed in the\n",
              "      current browser session. Please rerun this cell to enable.\n",
              "      </output>\n",
              "      <script>// Copyright 2017 Google LLC\n",
              "//\n",
              "// Licensed under the Apache License, Version 2.0 (the \"License\");\n",
              "// you may not use this file except in compliance with the License.\n",
              "// You may obtain a copy of the License at\n",
              "//\n",
              "//      http://www.apache.org/licenses/LICENSE-2.0\n",
              "//\n",
              "// Unless required by applicable law or agreed to in writing, software\n",
              "// distributed under the License is distributed on an \"AS IS\" BASIS,\n",
              "// WITHOUT WARRANTIES OR CONDITIONS OF ANY KIND, either express or implied.\n",
              "// See the License for the specific language governing permissions and\n",
              "// limitations under the License.\n",
              "\n",
              "/**\n",
              " * @fileoverview Helpers for google.colab Python module.\n",
              " */\n",
              "(function(scope) {\n",
              "function span(text, styleAttributes = {}) {\n",
              "  const element = document.createElement('span');\n",
              "  element.textContent = text;\n",
              "  for (const key of Object.keys(styleAttributes)) {\n",
              "    element.style[key] = styleAttributes[key];\n",
              "  }\n",
              "  return element;\n",
              "}\n",
              "\n",
              "// Max number of bytes which will be uploaded at a time.\n",
              "const MAX_PAYLOAD_SIZE = 100 * 1024;\n",
              "\n",
              "function _uploadFiles(inputId, outputId) {\n",
              "  const steps = uploadFilesStep(inputId, outputId);\n",
              "  const outputElement = document.getElementById(outputId);\n",
              "  // Cache steps on the outputElement to make it available for the next call\n",
              "  // to uploadFilesContinue from Python.\n",
              "  outputElement.steps = steps;\n",
              "\n",
              "  return _uploadFilesContinue(outputId);\n",
              "}\n",
              "\n",
              "// This is roughly an async generator (not supported in the browser yet),\n",
              "// where there are multiple asynchronous steps and the Python side is going\n",
              "// to poll for completion of each step.\n",
              "// This uses a Promise to block the python side on completion of each step,\n",
              "// then passes the result of the previous step as the input to the next step.\n",
              "function _uploadFilesContinue(outputId) {\n",
              "  const outputElement = document.getElementById(outputId);\n",
              "  const steps = outputElement.steps;\n",
              "\n",
              "  const next = steps.next(outputElement.lastPromiseValue);\n",
              "  return Promise.resolve(next.value.promise).then((value) => {\n",
              "    // Cache the last promise value to make it available to the next\n",
              "    // step of the generator.\n",
              "    outputElement.lastPromiseValue = value;\n",
              "    return next.value.response;\n",
              "  });\n",
              "}\n",
              "\n",
              "/**\n",
              " * Generator function which is called between each async step of the upload\n",
              " * process.\n",
              " * @param {string} inputId Element ID of the input file picker element.\n",
              " * @param {string} outputId Element ID of the output display.\n",
              " * @return {!Iterable<!Object>} Iterable of next steps.\n",
              " */\n",
              "function* uploadFilesStep(inputId, outputId) {\n",
              "  const inputElement = document.getElementById(inputId);\n",
              "  inputElement.disabled = false;\n",
              "\n",
              "  const outputElement = document.getElementById(outputId);\n",
              "  outputElement.innerHTML = '';\n",
              "\n",
              "  const pickedPromise = new Promise((resolve) => {\n",
              "    inputElement.addEventListener('change', (e) => {\n",
              "      resolve(e.target.files);\n",
              "    });\n",
              "  });\n",
              "\n",
              "  const cancel = document.createElement('button');\n",
              "  inputElement.parentElement.appendChild(cancel);\n",
              "  cancel.textContent = 'Cancel upload';\n",
              "  const cancelPromise = new Promise((resolve) => {\n",
              "    cancel.onclick = () => {\n",
              "      resolve(null);\n",
              "    };\n",
              "  });\n",
              "\n",
              "  // Wait for the user to pick the files.\n",
              "  const files = yield {\n",
              "    promise: Promise.race([pickedPromise, cancelPromise]),\n",
              "    response: {\n",
              "      action: 'starting',\n",
              "    }\n",
              "  };\n",
              "\n",
              "  cancel.remove();\n",
              "\n",
              "  // Disable the input element since further picks are not allowed.\n",
              "  inputElement.disabled = true;\n",
              "\n",
              "  if (!files) {\n",
              "    return {\n",
              "      response: {\n",
              "        action: 'complete',\n",
              "      }\n",
              "    };\n",
              "  }\n",
              "\n",
              "  for (const file of files) {\n",
              "    const li = document.createElement('li');\n",
              "    li.append(span(file.name, {fontWeight: 'bold'}));\n",
              "    li.append(span(\n",
              "        `(${file.type || 'n/a'}) - ${file.size} bytes, ` +\n",
              "        `last modified: ${\n",
              "            file.lastModifiedDate ? file.lastModifiedDate.toLocaleDateString() :\n",
              "                                    'n/a'} - `));\n",
              "    const percent = span('0% done');\n",
              "    li.appendChild(percent);\n",
              "\n",
              "    outputElement.appendChild(li);\n",
              "\n",
              "    const fileDataPromise = new Promise((resolve) => {\n",
              "      const reader = new FileReader();\n",
              "      reader.onload = (e) => {\n",
              "        resolve(e.target.result);\n",
              "      };\n",
              "      reader.readAsArrayBuffer(file);\n",
              "    });\n",
              "    // Wait for the data to be ready.\n",
              "    let fileData = yield {\n",
              "      promise: fileDataPromise,\n",
              "      response: {\n",
              "        action: 'continue',\n",
              "      }\n",
              "    };\n",
              "\n",
              "    // Use a chunked sending to avoid message size limits. See b/62115660.\n",
              "    let position = 0;\n",
              "    do {\n",
              "      const length = Math.min(fileData.byteLength - position, MAX_PAYLOAD_SIZE);\n",
              "      const chunk = new Uint8Array(fileData, position, length);\n",
              "      position += length;\n",
              "\n",
              "      const base64 = btoa(String.fromCharCode.apply(null, chunk));\n",
              "      yield {\n",
              "        response: {\n",
              "          action: 'append',\n",
              "          file: file.name,\n",
              "          data: base64,\n",
              "        },\n",
              "      };\n",
              "\n",
              "      let percentDone = fileData.byteLength === 0 ?\n",
              "          100 :\n",
              "          Math.round((position / fileData.byteLength) * 100);\n",
              "      percent.textContent = `${percentDone}% done`;\n",
              "\n",
              "    } while (position < fileData.byteLength);\n",
              "  }\n",
              "\n",
              "  // All done.\n",
              "  yield {\n",
              "    response: {\n",
              "      action: 'complete',\n",
              "    }\n",
              "  };\n",
              "}\n",
              "\n",
              "scope.google = scope.google || {};\n",
              "scope.google.colab = scope.google.colab || {};\n",
              "scope.google.colab._files = {\n",
              "  _uploadFiles,\n",
              "  _uploadFilesContinue,\n",
              "};\n",
              "})(self);\n",
              "</script> "
            ]
          },
          "metadata": {}
        },
        {
          "output_type": "stream",
          "name": "stdout",
          "text": [
            "Saving stock_features.csv to stock_features.csv\n",
            "         date  open_price  high_price   low_price  close_price       volume  \\\n",
            "0  2021-01-28  265.000000  483.000000  112.250000   193.600006   58815800.0   \n",
            "1  2021-01-27  354.829987  380.000000  249.000000   347.510010   93396700.0   \n",
            "2  2021-01-26   88.559998  150.000000   80.199997   147.979996  178588000.0   \n",
            "3  2021-01-25   96.730003  159.179993   61.130001    76.790001  177874000.0   \n",
            "4  2021-01-22   42.590000   76.760002   42.320000    65.010002  196784300.0   \n",
            "\n",
            "   adjclose_price  daily_return_pct  price_range   avg_price        MA10  \\\n",
            "0      193.600006        -26.943394   370.750000  361.800003  193.600006   \n",
            "1      347.510010         -2.062953   131.000000  528.584991  347.510010   \n",
            "2      147.979996         67.095754    69.800003  162.549995  147.979996   \n",
            "3       76.790001        -20.614082    98.049992  135.125004   76.790001   \n",
            "4       65.010002         52.641470    34.440002   75.095001   65.010002   \n",
            "\n",
            "         MA50        VWAP  target_updown  \n",
            "0  193.600006  193.600006              1  \n",
            "1  347.510010  288.038284              0  \n",
            "2  147.979996  212.425552              0  \n",
            "3   76.790001  164.996326              0  \n",
            "4   65.010002  137.105627              0  \n"
          ]
        }
      ]
    },
    {
      "cell_type": "code",
      "source": [
        "df.drop('date',axis=1,inplace=True)"
      ],
      "metadata": {
        "id": "n0TUACRrj07_"
      },
      "execution_count": 3,
      "outputs": []
    },
    {
      "cell_type": "markdown",
      "source": [
        "#Machine Learning"
      ],
      "metadata": {
        "id": "_vnWledQbX0m"
      }
    },
    {
      "cell_type": "code",
      "source": [
        "#Split features and target\n",
        "x=df.drop(['target_updown'],axis=1)\n",
        "y=df['target_updown']"
      ],
      "metadata": {
        "id": "sBLrCrxabgJq"
      },
      "execution_count": 8,
      "outputs": []
    },
    {
      "cell_type": "code",
      "source": [
        "# Split dataset into training and testing\n",
        "x_train,x_test,y_train,y_test=train_test_split(x,y,test_size=0.2,random_state=42)"
      ],
      "metadata": {
        "id": "5o1zWE6ocM0k"
      },
      "execution_count": 9,
      "outputs": []
    },
    {
      "cell_type": "code",
      "source": [
        "models={\n",
        "    'LogisticRegression': LogisticRegression(),\n",
        "    'DecisionTreeClassifier':DecisionTreeClassifier(),\n",
        "    'RandomForestClassifier':RandomForestClassifier(),\n",
        "    'GradientBoostingClassifier':GradientBoostingClassifier(),\n",
        "    'SVM': SVC(),\n",
        "    'KNeighborsClassifier': KNeighborsClassifier(),\n",
        "    \"Naive Bayas\": GaussianNB()\n",
        "\n",
        "}\n",
        "Result={}\n",
        "for name , model in models.items():\n",
        "  model.fit(x_train,y_train)\n",
        "  result=model.score(x_test,y_test)\n",
        "  Result[name]=result\n",
        "  print(f\"{name} : {result}\")\n"
      ],
      "metadata": {
        "colab": {
          "base_uri": "https://localhost:8080/"
        },
        "id": "RfomjYGBgMZl",
        "outputId": "75d89d61-05c8-4c77-d29b-ab14a598baba"
      },
      "execution_count": 10,
      "outputs": [
        {
          "output_type": "stream",
          "name": "stderr",
          "text": [
            "/usr/local/lib/python3.12/dist-packages/sklearn/linear_model/_logistic.py:465: ConvergenceWarning: lbfgs failed to converge (status=1):\n",
            "STOP: TOTAL NO. OF ITERATIONS REACHED LIMIT.\n",
            "\n",
            "Increase the number of iterations (max_iter) or scale the data as shown in:\n",
            "    https://scikit-learn.org/stable/modules/preprocessing.html\n",
            "Please also refer to the documentation for alternative solver options:\n",
            "    https://scikit-learn.org/stable/modules/linear_model.html#logistic-regression\n",
            "  n_iter_i = _check_optimize_result(\n"
          ]
        },
        {
          "output_type": "stream",
          "name": "stdout",
          "text": [
            "LogisticRegression : 0.86282722513089\n",
            "DecisionTreeClassifier : 0.8198952879581152\n",
            "RandomForestClassifier : 0.8722513089005236\n",
            "GradientBoostingClassifier : 0.8890052356020942\n",
            "SVM : 0.506806282722513\n",
            "KNeighborsClassifier : 0.5099476439790576\n",
            "Naive Bayas : 0.48795811518324606\n"
          ]
        }
      ]
    },
    {
      "cell_type": "code",
      "source": [
        "#pipeline\n",
        "#preprocessing\n",
        "standard=['open_price', 'high_price', 'low_price', 'close_price', 'adjclose_price', 'avg_price', 'MA10', 'MA50', 'VWAP', 'daily_return_pct', 'price_range']\n",
        "minmax=['volume']\n",
        "preprocessing=ColumnTransformer(transformers=[\n",
        "    ('standard',StandardScaler(),standard),\n",
        "    ('minmax',MinMaxScaler(),minmax)\n",
        "], remainder='passthrough'\n",
        ")\n",
        "pipeline=Pipeline(steps=[\n",
        "    ('preprocessing',preprocessing),\n",
        "    ('Model',GradientBoostingClassifier(random_state=42))\n",
        "])\n",
        "pipeline.fit(x_train,y_train)\n",
        "y_pred=pipeline.predict(x_test)\n",
        "print(f\"Accuracy Score: {accuracy_score(y_test,y_pred)}\")\n",
        "print(f\"Confusion Matrix: {confusion_matrix(y_test,y_pred)}\")\n",
        "print(f\"Classification Report: {classification_report(y_test,y_pred)}\")\n",
        "\n",
        "\n"
      ],
      "metadata": {
        "colab": {
          "base_uri": "https://localhost:8080/"
        },
        "id": "dC_NNSaUc2Uz",
        "outputId": "efadb61a-7a0d-46a4-a7a0-3a8bf47700f8"
      },
      "execution_count": 11,
      "outputs": [
        {
          "output_type": "stream",
          "name": "stdout",
          "text": [
            "Accuracy Score: 0.8890052356020942\n",
            "Confusion Matrix: [[439  54]\n",
            " [ 52 410]]\n",
            "Classification Report:               precision    recall  f1-score   support\n",
            "\n",
            "           0       0.89      0.89      0.89       493\n",
            "           1       0.88      0.89      0.89       462\n",
            "\n",
            "    accuracy                           0.89       955\n",
            "   macro avg       0.89      0.89      0.89       955\n",
            "weighted avg       0.89      0.89      0.89       955\n",
            "\n"
          ]
        }
      ]
    },
    {
      "cell_type": "code",
      "source": [
        "#Hyperparameter Tuning\n",
        "param_grid={\n",
        "    'Model__n_estimators': [50, 100, 150, 200],\n",
        "    'Model__learning_rate': [0.01, 0.05, 0.1],\n",
        "    'Model__max_depth': [3, 5, 7]\n",
        "\n",
        "}\n",
        "grid=GridSearchCV(pipeline,param_grid,cv=5,scoring='accuracy')\n",
        "grid.fit(x_train,y_train)\n",
        "print(f\"Best Parameters: {grid.best_params_}\")\n",
        "print(f\"Best Score: {grid.best_score_}\")\n"
      ],
      "metadata": {
        "colab": {
          "base_uri": "https://localhost:8080/"
        },
        "id": "gFauvTSxZVXk",
        "outputId": "7ef2699b-76e5-4f30-9d00-3c9f8843d108"
      },
      "execution_count": 14,
      "outputs": [
        {
          "output_type": "stream",
          "name": "stdout",
          "text": [
            "Best Parameters: {'Model__learning_rate': 0.01, 'Model__max_depth': 3, 'Model__n_estimators': 50}\n",
            "Best Score: 0.8779463127774767\n"
          ]
        }
      ]
    },
    {
      "cell_type": "code",
      "source": [
        "best_model=grid.best_estimator_\n",
        "y_pred=best_model.predict(x_test)\n",
        "print(f\"Accuracy Score: {accuracy_score(y_test,y_pred)}\")\n",
        "print(f\"Confusion Matrix: {confusion_matrix(y_test,y_pred)}\")\n",
        "print(f\"Classification Report: {classification_report(y_test,y_pred)}\")\n",
        "cm = confusion_matrix(y_test, y_pred)\n",
        "# Plot Heatmap\n",
        "plt.figure(figsize=(6,4))\n",
        "sns.heatmap(cm, annot=True, fmt='d', cmap='Blues', cbar=False)\n",
        "plt.title('Confusion Matrix Heatmap')\n",
        "plt.xlabel('Predicted Labels')\n",
        "plt.ylabel('True Labels')\n",
        "plt.show()\n",
        "\n",
        "\n"
      ],
      "metadata": {
        "colab": {
          "base_uri": "https://localhost:8080/",
          "height": 638
        },
        "id": "pOFc8oWIg6vp",
        "outputId": "c427f85c-bedc-4b5c-a134-87ddef8e6253"
      },
      "execution_count": 24,
      "outputs": [
        {
          "output_type": "stream",
          "name": "stdout",
          "text": [
            "Accuracy Score: 0.8869109947643979\n",
            "Confusion Matrix: [[440  53]\n",
            " [ 55 407]]\n",
            "Classification Report:               precision    recall  f1-score   support\n",
            "\n",
            "           0       0.89      0.89      0.89       493\n",
            "           1       0.88      0.88      0.88       462\n",
            "\n",
            "    accuracy                           0.89       955\n",
            "   macro avg       0.89      0.89      0.89       955\n",
            "weighted avg       0.89      0.89      0.89       955\n",
            "\n"
          ]
        },
        {
          "output_type": "display_data",
          "data": {
            "text/plain": [
              "<Figure size 600x400 with 1 Axes>"
            ],
            "image/png": "[encoded data removed]"
          },
          "metadata": {}
        }
      ]
    },
    {
      "cell_type": "code",
      "source": [
        "#Cross Validation\n",
        "scores=cross_val_score(best_model,x_train,y_train,cv=5,scoring='accuracy')\n",
        "print(f\"Cross Validation Scores: {scores}\")\n",
        "print(f\"Mean CV Accuracy: {scores.mean()}\")\n",
        "print(f\"Standard Deviation: {scores.std()}\")"
      ],
      "metadata": {
        "colab": {
          "base_uri": "https://localhost:8080/"
        },
        "id": "2mpN2XiYhpkT",
        "outputId": "00673d8e-b8b0-47b8-f44e-34f9f025816d"
      },
      "execution_count": 17,
      "outputs": [
        {
          "output_type": "stream",
          "name": "stdout",
          "text": [
            "Cross Validation Scores: [0.87303665 0.87172775 0.89005236 0.87418087 0.88073394]\n",
            "Mean CV Accuracy: 0.8779463127774767\n",
            "Standard Deviation: 0.0068011926700683005\n"
          ]
        }
      ]
    },
    {
      "cell_type": "code",
      "source": [
        "#Feature Importance\n",
        "best_model = grid.best_estimator_\n",
        "gb_model = best_model.named_steps['Model']\n",
        "feature_names = standard + minmax\n",
        "import matplotlib.pyplot as plt\n",
        "import numpy as np\n",
        "\n",
        "# Get importance values\n",
        "importances = gb_model.feature_importances_\n",
        "\n",
        "# Sort in descending order for clarity\n",
        "indices = np.argsort(importances)[::-1]\n",
        "\n",
        "# Plot\n",
        "plt.figure(figsize=(10,6))\n",
        "plt.bar(range(len(importances)), importances[indices], align='center')\n",
        "plt.xticks(range(len(importances)), np.array(feature_names)[indices], rotation=45)\n",
        "plt.xlabel('Features')\n",
        "plt.ylabel('Importance')\n",
        "plt.title('Feature Importance in Predicting Stock Movement')\n",
        "plt.tight_layout()\n",
        "plt.show()\n"
      ],
      "metadata": {
        "colab": {
          "base_uri": "https://localhost:8080/",
          "height": 379
        },
        "id": "NkE2C2DQjA02",
        "outputId": "bbd23717-3f60-406c-f606-6a2630ab5cc8"
      },
      "execution_count": 19,
      "outputs": [
        {
          "output_type": "display_data",
          "data": {
            "text/plain": [
              "<Figure size 1000x600 with 1 Axes>"
            ],
            "image/png": "[encoded data removed]"
          },
          "metadata": {}
        }
      ]
    },
    {
      "cell_type": "code",
      "source": [
        "#save train model\n",
        "joblib.dump(best_model,'final_stock_model.pkl')\n",
        "print(\"Model Saved as final_stock_model.pkl\")"
      ],
      "metadata": {
        "colab": {
          "base_uri": "https://localhost:8080/"
        },
        "id": "I4JjoFzBkMDz",
        "outputId": "56c8348d-012c-4feb-b59a-74fb3c167659"
      },
      "execution_count": 21,
      "outputs": [
        {
          "output_type": "stream",
          "name": "stdout",
          "text": [
            "Model Saved as final_stock_model.pkl\n"
          ]
        }
      ]
    },
    {
      "cell_type": "code",
      "source": [
        "#Load saved model for prediction\n",
        "model=joblib.load('final_stock_model.pkl')\n",
        "pred=model.predict(x_test[:5])\n",
        "print(f\"Prediction: {pred}\")"
      ],
      "metadata": {
        "colab": {
          "base_uri": "https://localhost:8080/"
        },
        "id": "--ioJXohko2g",
        "outputId": "bc97db1f-f86f-4a90-850e-0c47f79fac95"
      },
      "execution_count": 22,
      "outputs": [
        {
          "output_type": "stream",
          "name": "stdout",
          "text": [
            "Prediction: [1 1 0 1 0]\n"
          ]
        }
      ]
    },
    {
      "cell_type": "markdown",
      "source": [
        "#Final Notes\n",
        "This project shows a complete machine learning workflow for stock movement prediction.\n",
        "The tuned Gradient Boosting model gave strong and stable results.\n",
        "It’s ready for deployment or further improvement with real-time data."
      ],
      "metadata": {
        "id": "P-qo9L58pcC0"
      }
    }
  ]
}